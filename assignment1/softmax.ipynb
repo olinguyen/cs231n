{
 "metadata": {
  "name": "",
  "signature": "sha256:688ae899db8141fc92e6b104f646b74c2d597582744e909113e958aa972b250c"
 },
 "nbformat": 3,
 "nbformat_minor": 0,
 "worksheets": [
  {
   "cells": [
    {
     "cell_type": "markdown",
     "metadata": {},
     "source": [
      "# Softmax exercise\n",
      "\n",
      "*Complete and hand in this completed worksheet (including its outputs and any supporting code outside of the worksheet) with your assignment submission. For more details see the [assignments page](http://vision.stanford.edu/teaching/cs231n/assignments.html) on the course website.*\n",
      "\n",
      "This exercise is analogous to the SVM exercise. You will:\n",
      "\n",
      "- implement a fully-vectorized **loss function** for the Softmax classifier\n",
      "- implement the fully-vectorized expression for its **analytic gradient**\n",
      "- **check your implementation** with numerical gradient\n",
      "- use a validation set to **tune the learning rate and regularization** strength\n",
      "- **optimize** the loss function with **SGD**\n",
      "- **visualize** the final learned weights\n"
     ]
    },
    {
     "cell_type": "code",
     "collapsed": false,
     "input": [
      "import random\n",
      "import numpy as np\n",
      "from cs231n.data_utils import load_CIFAR10\n",
      "import matplotlib.pyplot as plt\n",
      "%matplotlib inline\n",
      "plt.rcParams['figure.figsize'] = (10.0, 8.0) # set default size of plots\n",
      "plt.rcParams['image.interpolation'] = 'nearest'\n",
      "plt.rcParams['image.cmap'] = 'gray'\n",
      "\n",
      "# for auto-reloading extenrnal modules\n",
      "# see http://stackoverflow.com/questions/1907993/autoreload-of-modules-in-ipython\n",
      "%load_ext autoreload\n",
      "%autoreload 2"
     ],
     "language": "python",
     "metadata": {},
     "outputs": [],
     "prompt_number": 1
    },
    {
     "cell_type": "code",
     "collapsed": false,
     "input": [
      "def get_CIFAR10_data(num_training=49000, num_validation=1000, num_test=1000):\n",
      "  \"\"\"\n",
      "  Load the CIFAR-10 dataset from disk and perform preprocessing to prepare\n",
      "  it for the linear classifier. These are the same steps as we used for the\n",
      "  SVM, but condensed to a single function.  \n",
      "  \"\"\"\n",
      "  # Load the raw CIFAR-10 data\n",
      "  cifar10_dir = 'cs231n/datasets/cifar-10-batches-py'\n",
      "  X_train, y_train, X_test, y_test = load_CIFAR10(cifar10_dir)\n",
      "  \n",
      "  # subsample the data\n",
      "  mask = range(num_training, num_training + num_validation)\n",
      "  X_val = X_train[mask]\n",
      "  y_val = y_train[mask]\n",
      "  mask = range(num_training)\n",
      "  X_train = X_train[mask]\n",
      "  y_train = y_train[mask]\n",
      "  mask = range(num_test)\n",
      "  X_test = X_test[mask]\n",
      "  y_test = y_test[mask]\n",
      "  \n",
      "  # Preprocessing: reshape the image data into rows\n",
      "  X_train = np.reshape(X_train, (X_train.shape[0], -1))\n",
      "  X_val = np.reshape(X_val, (X_val.shape[0], -1))\n",
      "  X_test = np.reshape(X_test, (X_test.shape[0], -1))\n",
      "  \n",
      "  # Normalize the data: subtract the mean image\n",
      "  mean_image = np.mean(X_train, axis = 0)\n",
      "  X_train -= mean_image\n",
      "  X_val -= mean_image\n",
      "  X_test -= mean_image\n",
      "  \n",
      "  # add bias dimension and transform into columns\n",
      "  X_train = np.hstack([X_train, np.ones((X_train.shape[0], 1))]).T\n",
      "  X_val = np.hstack([X_val, np.ones((X_val.shape[0], 1))]).T\n",
      "  X_test = np.hstack([X_test, np.ones((X_test.shape[0], 1))]).T\n",
      "  \n",
      "  return X_train, y_train, X_val, y_val, X_test, y_test\n",
      "\n",
      "\n",
      "# Invoke the above function to get our data.\n",
      "X_train, y_train, X_val, y_val, X_test, y_test = get_CIFAR10_data()\n",
      "print 'Train data shape: ', X_train.shape\n",
      "print 'Train labels shape: ', y_train.shape\n",
      "print 'Validation data shape: ', X_val.shape\n",
      "print 'Validation labels shape: ', y_val.shape\n",
      "print 'Test data shape: ', X_test.shape\n",
      "print 'Test labels shape: ', y_test.shape"
     ],
     "language": "python",
     "metadata": {},
     "outputs": [
      {
       "output_type": "stream",
       "stream": "stdout",
       "text": [
        "Train data shape:  (3073, 49000)\n",
        "Train labels shape:  (49000,)\n",
        "Validation data shape:  (3073, 1000)\n",
        "Validation labels shape:  (1000,)\n",
        "Test data shape:  (3073, 1000)\n",
        "Test labels shape:  (1000,)\n"
       ]
      }
     ],
     "prompt_number": 2
    },
    {
     "cell_type": "markdown",
     "metadata": {},
     "source": [
      "## Softmax Classifier\n",
      "\n",
      "Your code for this section will all be written inside **cs231n/classifiers/softmax.py**. \n"
     ]
    },
    {
     "cell_type": "code",
     "collapsed": false,
     "input": [
      "# First implement the naive softmax loss function with nested loops.\n",
      "# Open the file cs231n/classifiers/softmax.py and implement the\n",
      "# softmax_loss_naive function.\n",
      "\n",
      "from cs231n.classifiers.softmax import softmax_loss_naive\n",
      "import time\n",
      "\n",
      "# Generate a random softmax weight matrix and use it to compute the loss.\n",
      "W = np.random.randn(10, 3073) * 0.0001\n",
      "loss, grad = softmax_loss_naive(W, X_train, y_train, 0.0)\n",
      "\n",
      "# As a rough sanity check, our loss should be something close to -log(0.1).\n",
      "print 'loss: %f' % loss\n",
      "print 'sanity check: %f' % (-np.log(0.1))"
     ],
     "language": "python",
     "metadata": {},
     "outputs": [
      {
       "output_type": "stream",
       "stream": "stdout",
       "text": [
        "loss: 2.376917\n",
        "sanity check: 2.302585\n"
       ]
      }
     ],
     "prompt_number": 3
    },
    {
     "cell_type": "markdown",
     "metadata": {},
     "source": [
      "## Inline Question 1:\n",
      "Why do we expect our loss to be close to -log(0.1)? Explain briefly.**\n",
      "\n",
      "**Your answer:** *Fill this in*\n"
     ]
    },
    {
     "cell_type": "code",
     "collapsed": false,
     "input": [
      "# Complete the implementation of softmax_loss_naive and implement a (naive)\n",
      "# version of the gradient that uses nested loops.\n",
      "loss, grad = softmax_loss_naive(W, X_train, y_train, 0.0)\n",
      "\n",
      "# As we did for the SVM, use numeric gradient checking as a debugging tool.\n",
      "# The numeric gradient should be close to the analytic gradient.\n",
      "from cs231n.gradient_check import grad_check_sparse\n",
      "f = lambda w: softmax_loss_naive(w, X_train, y_train, 0.0)[0]\n",
      "grad_numerical = grad_check_sparse(f, W, grad, 10)"
     ],
     "language": "python",
     "metadata": {},
     "outputs": [
      {
       "output_type": "stream",
       "stream": "stdout",
       "text": [
        "numerical: -3.691434 analytic: -3.691434, relative error: 1.391493e-08\n",
        "numerical: 2.708308 analytic: 2.708308, relative error: 1.423593e-08"
       ]
      },
      {
       "output_type": "stream",
       "stream": "stdout",
       "text": [
        "\n",
        "numerical: 0.479717 analytic: 0.479717, relative error: 2.768449e-08"
       ]
      },
      {
       "output_type": "stream",
       "stream": "stdout",
       "text": [
        "\n",
        "numerical: 0.437926 analytic: 0.437926, relative error: 5.520709e-08"
       ]
      },
      {
       "output_type": "stream",
       "stream": "stdout",
       "text": [
        "\n",
        "numerical: 0.250005 analytic: 0.250005, relative error: 3.452749e-08"
       ]
      },
      {
       "output_type": "stream",
       "stream": "stdout",
       "text": [
        "\n",
        "numerical: -3.964010 analytic: -3.964010, relative error: 1.697030e-08"
       ]
      },
      {
       "output_type": "stream",
       "stream": "stdout",
       "text": [
        "\n",
        "numerical: 1.319814 analytic: 1.319814, relative error: 7.945277e-09"
       ]
      },
      {
       "output_type": "stream",
       "stream": "stdout",
       "text": [
        "\n",
        "numerical: -0.638032 analytic: -0.638032, relative error: 6.031942e-08"
       ]
      },
      {
       "output_type": "stream",
       "stream": "stdout",
       "text": [
        "\n",
        "numerical: 0.898454 analytic: 0.898454, relative error: 8.179817e-09"
       ]
      },
      {
       "output_type": "stream",
       "stream": "stdout",
       "text": [
        "\n",
        "numerical: 1.547716 analytic: 1.547716, relative error: 3.066322e-08"
       ]
      },
      {
       "output_type": "stream",
       "stream": "stdout",
       "text": [
        "\n"
       ]
      }
     ],
     "prompt_number": 4
    },
    {
     "cell_type": "code",
     "collapsed": false,
     "input": [
      "# Now that we have a naive implementation of the softmax loss function and its gradient,\n",
      "# implement a vectorized version in softmax_loss_vectorized.\n",
      "# The two versions should compute the same results, but the vectorized version should be\n",
      "# much faster.\n",
      "tic = time.time()\n",
      "loss_naive, grad_naive = softmax_loss_naive(W, X_train, y_train, 0.00001)\n",
      "toc = time.time()\n",
      "print 'naive loss: %e computed in %fs' % (loss_naive, toc - tic)\n",
      "\n",
      "from cs231n.classifiers.softmax import softmax_loss_vectorized\n",
      "tic = time.time()\n",
      "loss_vectorized, grad_vectorized = softmax_loss_vectorized(W, X_train, y_train, 0.00001)\n",
      "toc = time.time()\n",
      "print 'vectorized loss: %e computed in %fs' % (loss_vectorized, toc - tic)\n",
      "\n",
      "# As we did for the SVM, we use the Frobenius norm to compare the two versions\n",
      "# of the gradient.\n",
      "grad_difference = np.linalg.norm(grad_naive - grad_vectorized, ord='fro')\n",
      "print 'Loss difference: %f' % np.abs(loss_naive - loss_vectorized)\n",
      "print 'Gradient difference: %f' % grad_difference"
     ],
     "language": "python",
     "metadata": {},
     "outputs": [
      {
       "output_type": "stream",
       "stream": "stdout",
       "text": [
        "naive loss: 2.376917e+00 computed in 9.519985s\n",
        "vectorized loss: 2.376917e+00 computed in 1.285354s"
       ]
      },
      {
       "output_type": "stream",
       "stream": "stdout",
       "text": [
        "\n",
        "Loss difference: 0.000000\n",
        "Gradient difference: 0.000000\n"
       ]
      }
     ],
     "prompt_number": 5
    },
    {
     "cell_type": "code",
     "collapsed": false,
     "input": [
      "# Use the validation set to tune hyperparameters (regularization strength and\n",
      "# learning rate). You should experiment with different ranges for the learning\n",
      "# rates and regularization strengths; if you are careful you should be able to\n",
      "# get a classification accuracy of over 0.35 on the validation set.\n",
      "from cs231n.classifiers import Softmax\n",
      "results = {}\n",
      "best_val = -1\n",
      "best_softmax = None\n",
      "learning_rates = [1e-7, 5e-7]\n",
      "regularization_strengths = [5e4, 1e8]\n",
      "\n",
      "################################################################################\n",
      "# TODO:                                                                        #\n",
      "# Use the validation set to set the learning rate and regularization strength. #\n",
      "# This should be identical to the validation that you did for the SVM; save    #\n",
      "# the best trained softmax classifer in best_softmax.                          #\n",
      "################################################################################\n",
      "for lr in learning_rates:\n",
      "    for reg in regularization_strengths:\n",
      "        softmax = Softmax()\n",
      "        loss_history = softmax.train(X_train, y_train, learning_rate=lr, \n",
      "                                    reg=reg, num_iters=1500, verbose=True)\n",
      "        y_val_acc = np.mean(softmax.predict(X_val) == y_val)\n",
      "        y_train_acc = np.mean(softmax.predict(X_train) == y_train)\n",
      "        if y_val_acc > best_val:\n",
      "            best_val = y_val_acc\n",
      "            best_softmax = softmax\n",
      "        results[(lr, reg)] = y_train_acc, y_val_acc\n",
      "################################################################################\n",
      "#                              END OF YOUR CODE                                #\n",
      "################################################################################\n",
      "    \n",
      "# Print out results.\n",
      "for lr, reg in sorted(results):\n",
      "    train_accuracy, val_accuracy = results[(lr, reg)]\n",
      "    print 'lr %e reg %e train accuracy: %f val accuracy: %f' % (\n",
      "                lr, reg, train_accuracy, val_accuracy)\n",
      "    \n",
      "print 'best validation accuracy achieved during cross-validation: %f' % best_val"
     ],
     "language": "python",
     "metadata": {},
     "outputs": [
      {
       "output_type": "stream",
       "stream": "stdout",
       "text": [
        "iteration 0 / 1500: loss 772.622508\n",
        "iteration 100 / 1500: loss 283.761930"
       ]
      },
      {
       "output_type": "stream",
       "stream": "stdout",
       "text": [
        "\n",
        "iteration 200 / 1500: loss 105.150380"
       ]
      },
      {
       "output_type": "stream",
       "stream": "stdout",
       "text": [
        "\n",
        "iteration 300 / 1500: loss 39.827742"
       ]
      },
      {
       "output_type": "stream",
       "stream": "stdout",
       "text": [
        "\n",
        "iteration 400 / 1500: loss 15.832585"
       ]
      },
      {
       "output_type": "stream",
       "stream": "stdout",
       "text": [
        "\n",
        "iteration 500 / 1500: loss 7.136999"
       ]
      },
      {
       "output_type": "stream",
       "stream": "stdout",
       "text": [
        "\n",
        "iteration 600 / 1500: loss 3.931803"
       ]
      },
      {
       "output_type": "stream",
       "stream": "stdout",
       "text": [
        "\n",
        "iteration 700 / 1500: loss 2.742133"
       ]
      },
      {
       "output_type": "stream",
       "stream": "stdout",
       "text": [
        "\n",
        "iteration 800 / 1500: loss 2.324734"
       ]
      },
      {
       "output_type": "stream",
       "stream": "stdout",
       "text": [
        "\n",
        "iteration 900 / 1500: loss 2.191118"
       ]
      },
      {
       "output_type": "stream",
       "stream": "stdout",
       "text": [
        "\n",
        "iteration 1000 / 1500: loss 2.201046"
       ]
      },
      {
       "output_type": "stream",
       "stream": "stdout",
       "text": [
        "\n",
        "iteration 1100 / 1500: loss 2.109660"
       ]
      },
      {
       "output_type": "stream",
       "stream": "stdout",
       "text": [
        "\n",
        "iteration 1200 / 1500: loss 2.112225"
       ]
      },
      {
       "output_type": "stream",
       "stream": "stdout",
       "text": [
        "\n",
        "iteration 1300 / 1500: loss 2.098446"
       ]
      },
      {
       "output_type": "stream",
       "stream": "stdout",
       "text": [
        "\n",
        "iteration 1400 / 1500: loss 2.090911"
       ]
      },
      {
       "output_type": "stream",
       "stream": "stdout",
       "text": [
        "\n",
        "iteration 0 / 1500: loss 1547607.012647"
       ]
      },
      {
       "output_type": "stream",
       "stream": "stdout",
       "text": [
        "\n",
        "iteration 100 / 1500: loss nan"
       ]
      },
      {
       "output_type": "stream",
       "stream": "stdout",
       "text": [
        "\n",
        "iteration 200 / 1500: loss nan"
       ]
      },
      {
       "output_type": "stream",
       "stream": "stdout",
       "text": [
        "\n",
        "iteration 300 / 1500: loss nan"
       ]
      },
      {
       "output_type": "stream",
       "stream": "stdout",
       "text": [
        "\n",
        "iteration 400 / 1500: loss nan"
       ]
      },
      {
       "output_type": "stream",
       "stream": "stdout",
       "text": [
        "\n",
        "iteration 500 / 1500: loss nan"
       ]
      },
      {
       "output_type": "stream",
       "stream": "stdout",
       "text": [
        "\n",
        "iteration 600 / 1500: loss nan"
       ]
      },
      {
       "output_type": "stream",
       "stream": "stdout",
       "text": [
        "\n",
        "iteration 700 / 1500: loss nan"
       ]
      },
      {
       "output_type": "stream",
       "stream": "stdout",
       "text": [
        "\n",
        "iteration 800 / 1500: loss nan"
       ]
      },
      {
       "output_type": "stream",
       "stream": "stdout",
       "text": [
        "\n",
        "iteration 900 / 1500: loss nan"
       ]
      },
      {
       "output_type": "stream",
       "stream": "stdout",
       "text": [
        "\n",
        "iteration 1000 / 1500: loss nan"
       ]
      },
      {
       "output_type": "stream",
       "stream": "stdout",
       "text": [
        "\n",
        "iteration 1100 / 1500: loss nan"
       ]
      },
      {
       "output_type": "stream",
       "stream": "stdout",
       "text": [
        "\n",
        "iteration 1200 / 1500: loss nan"
       ]
      },
      {
       "output_type": "stream",
       "stream": "stdout",
       "text": [
        "\n",
        "iteration 1300 / 1500: loss nan"
       ]
      },
      {
       "output_type": "stream",
       "stream": "stdout",
       "text": [
        "\n",
        "iteration 1400 / 1500: loss nan"
       ]
      },
      {
       "output_type": "stream",
       "stream": "stdout",
       "text": [
        "\n",
        "iteration 0 / 1500: loss 770.886306"
       ]
      },
      {
       "output_type": "stream",
       "stream": "stdout",
       "text": [
        "\n",
        "iteration 100 / 1500: loss 6.860855"
       ]
      },
      {
       "output_type": "stream",
       "stream": "stdout",
       "text": [
        "\n",
        "iteration 200 / 1500: loss 2.180546"
       ]
      },
      {
       "output_type": "stream",
       "stream": "stdout",
       "text": [
        "\n",
        "iteration 300 / 1500: loss 2.117074"
       ]
      },
      {
       "output_type": "stream",
       "stream": "stdout",
       "text": [
        "\n",
        "iteration 400 / 1500: loss 2.127718"
       ]
      },
      {
       "output_type": "stream",
       "stream": "stdout",
       "text": [
        "\n",
        "iteration 500 / 1500: loss 2.129075"
       ]
      },
      {
       "output_type": "stream",
       "stream": "stdout",
       "text": [
        "\n",
        "iteration 600 / 1500: loss 2.070998"
       ]
      },
      {
       "output_type": "stream",
       "stream": "stdout",
       "text": [
        "\n",
        "iteration 700 / 1500: loss 2.123751"
       ]
      },
      {
       "output_type": "stream",
       "stream": "stdout",
       "text": [
        "\n",
        "iteration 800 / 1500: loss 2.099900"
       ]
      },
      {
       "output_type": "stream",
       "stream": "stdout",
       "text": [
        "\n",
        "iteration 900 / 1500: loss 2.169686"
       ]
      },
      {
       "output_type": "stream",
       "stream": "stdout",
       "text": [
        "\n",
        "iteration 1000 / 1500: loss 2.074038"
       ]
      },
      {
       "output_type": "stream",
       "stream": "stdout",
       "text": [
        "\n",
        "iteration 1100 / 1500: loss 2.081584"
       ]
      },
      {
       "output_type": "stream",
       "stream": "stdout",
       "text": [
        "\n",
        "iteration 1200 / 1500: loss 2.094642"
       ]
      },
      {
       "output_type": "stream",
       "stream": "stdout",
       "text": [
        "\n",
        "iteration 1300 / 1500: loss 2.159814"
       ]
      },
      {
       "output_type": "stream",
       "stream": "stdout",
       "text": [
        "\n",
        "iteration 1400 / 1500: loss 2.015136"
       ]
      },
      {
       "output_type": "stream",
       "stream": "stdout",
       "text": [
        "\n",
        "iteration 0 / 1500: loss 1536014.855423"
       ]
      },
      {
       "output_type": "stream",
       "stream": "stdout",
       "text": [
        "\n",
        "iteration 100 / 1500: loss nan"
       ]
      },
      {
       "output_type": "stream",
       "stream": "stdout",
       "text": [
        "\n",
        "iteration 200 / 1500: loss nan"
       ]
      },
      {
       "output_type": "stream",
       "stream": "stdout",
       "text": [
        "\n",
        "iteration 300 / 1500: loss nan"
       ]
      },
      {
       "output_type": "stream",
       "stream": "stdout",
       "text": [
        "\n",
        "iteration 400 / 1500: loss nan"
       ]
      },
      {
       "output_type": "stream",
       "stream": "stdout",
       "text": [
        "\n",
        "iteration 500 / 1500: loss nan"
       ]
      },
      {
       "output_type": "stream",
       "stream": "stdout",
       "text": [
        "\n",
        "iteration 600 / 1500: loss nan"
       ]
      },
      {
       "output_type": "stream",
       "stream": "stdout",
       "text": [
        "\n",
        "iteration 700 / 1500: loss nan"
       ]
      },
      {
       "output_type": "stream",
       "stream": "stdout",
       "text": [
        "\n",
        "iteration 800 / 1500: loss nan"
       ]
      },
      {
       "output_type": "stream",
       "stream": "stdout",
       "text": [
        "\n",
        "iteration 900 / 1500: loss nan"
       ]
      },
      {
       "output_type": "stream",
       "stream": "stdout",
       "text": [
        "\n",
        "iteration 1000 / 1500: loss nan"
       ]
      },
      {
       "output_type": "stream",
       "stream": "stdout",
       "text": [
        "\n",
        "iteration 1100 / 1500: loss nan"
       ]
      },
      {
       "output_type": "stream",
       "stream": "stdout",
       "text": [
        "\n",
        "iteration 1200 / 1500: loss nan"
       ]
      },
      {
       "output_type": "stream",
       "stream": "stdout",
       "text": [
        "\n",
        "iteration 1300 / 1500: loss nan"
       ]
      },
      {
       "output_type": "stream",
       "stream": "stdout",
       "text": [
        "\n",
        "iteration 1400 / 1500: loss nan"
       ]
      },
      {
       "output_type": "stream",
       "stream": "stdout",
       "text": [
        "\n",
        "lr 1.000000e-07 reg 5.000000e+04 train accuracy: 0.327612 val accuracy: 0.336000"
       ]
      },
      {
       "output_type": "stream",
       "stream": "stdout",
       "text": [
        "\n",
        "lr 1.000000e-07 reg 1.000000e+08 train accuracy: 0.100265 val accuracy: 0.087000\n",
        "lr 5.000000e-07 reg 5.000000e+04 train accuracy: 0.324571 val accuracy: 0.331000\n",
        "lr 5.000000e-07 reg 1.000000e+08 train accuracy: 0.100265 val accuracy: 0.087000\n",
        "best validation accuracy achieved during cross-validation: 0.336000\n"
       ]
      },
      {
       "output_type": "stream",
       "stream": "stderr",
       "text": [
        "cs231n/classifiers/softmax.py:70: RuntimeWarning: overflow encountered in exp\n",
        "  normalized_scores = np.exp(scores) / np.sum(np.exp(scores), axis=0)\n",
        "cs231n/classifiers/softmax.py:70: RuntimeWarning: invalid value encountered in divide\n",
        "  normalized_scores = np.exp(scores) / np.sum(np.exp(scores), axis=0)\n",
        "cs231n/classifiers/softmax.py:71: RuntimeWarning: divide by zero encountered in log\n",
        "  loss = -np.log(normalized_scores[y, xrange(num_train)])\n"
       ]
      }
     ],
     "prompt_number": 6
    },
    {
     "cell_type": "code",
     "collapsed": false,
     "input": [
      "# evaluate on test set\n",
      "# Evaluate the best svm on test set\n",
      "y_test_pred = best_softmax.predict(X_test)\n",
      "test_accuracy = np.mean(y_test == y_test_pred)\n",
      "print 'softmax on raw pixels final test set accuracy: %f' % (test_accuracy, )"
     ],
     "language": "python",
     "metadata": {},
     "outputs": [
      {
       "output_type": "stream",
       "stream": "stdout",
       "text": [
        "softmax on raw pixels final test set accuracy: 0.340000\n"
       ]
      }
     ],
     "prompt_number": 7
    },
    {
     "cell_type": "code",
     "collapsed": false,
     "input": [
      "# Visualize the learned weights for each class\n",
      "w = best_softmax.W[:,:-1] # strip out the bias\n",
      "w = w.reshape(10, 32, 32, 3)\n",
      "\n",
      "w_min, w_max = np.min(w), np.max(w)\n",
      "\n",
      "classes = ['plane', 'car', 'bird', 'cat', 'deer', 'dog', 'frog', 'horse', 'ship', 'truck']\n",
      "for i in xrange(10):\n",
      "  plt.subplot(2, 5, i + 1)\n",
      "  \n",
      "  # Rescale the weights to be between 0 and 255\n",
      "  wimg = 255.0 * (w[i].squeeze() - w_min) / (w_max - w_min)\n",
      "  plt.imshow(wimg.astype('uint8'))\n",
      "  plt.axis('off')\n",
      "  plt.title(classes[i])"
     ],
     "language": "python",
     "metadata": {},
     "outputs": [
      {
       "metadata": {},
       "output_type": "display_data",
       "png": "[encoded data removed]",
       "text": [
        "<matplotlib.figure.Figure at 0x7fc031a088d0>"
       ]
      }
     ],
     "prompt_number": 8
    }
   ],
   "metadata": {}
  }
 ]
}